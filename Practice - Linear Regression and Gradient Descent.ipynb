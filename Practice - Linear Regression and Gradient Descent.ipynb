{
 "cells": [
  {
   "cell_type": "markdown",
   "id": "18053385",
   "metadata": {},
   "source": [
    "Ways of solving for the coefficients\n",
    "\n",
    "**1. matrix inversion**\n",
    "\n",
    "**2. Scikit's linear regression class**\n",
    "\n",
    "**3. gradient descent**"
   ]
  },
  {
   "cell_type": "markdown",
   "id": "870b6c36",
   "metadata": {},
   "source": [
    "#### Goal: create a formula for predicting the sale price of any house in Cleveland"
   ]
  },
  {
   "cell_type": "code",
   "execution_count": 144,
   "id": "721e3082",
   "metadata": {},
   "outputs": [],
   "source": [
    "import pandas as pd\n",
    "import numpy as np\n",
    "import matplotlib.pyplot as plt"
   ]
  },
  {
   "cell_type": "markdown",
   "id": "84bfd687",
   "metadata": {},
   "source": [
    "Some basic functions like reading of data, creating regression equation based on coefficients, evaluation function"
   ]
  },
  {
   "cell_type": "code",
   "execution_count": 125,
   "id": "c7632d92",
   "metadata": {},
   "outputs": [],
   "source": [
    "# create an function to read the excel file\n",
    "def read_excel_data(infilename):\n",
    "    df = pd.read_excel(infilename, index_col=0)\n",
    "\n",
    "    n, d = df.values.shape\n",
    "    d = d - 1 # The price column doesn't count\n",
    "\n",
    "    X = df.values[:,:-1] # take all inputs features\n",
    "    labels = df.columns[:-1]\n",
    "    Y = df['price'].values\n",
    "    X = np.hstack([np.ones((n,1)), X]) # add extra coefficient of one's to the features\n",
    "    \n",
    "    return X, Y, labels"
   ]
  },
  {
   "cell_type": "code",
   "execution_count": 126,
   "id": "af7ed28c",
   "metadata": {},
   "outputs": [],
   "source": [
    "# defining of the prediction formula\n",
    "def format_prediction(B, labels):\n",
    "    ## Your code here\n",
    "    string = \"predicted price = \"\n",
    "    for i in range(len(B)):\n",
    "        if i == 0:\n",
    "            string += f\"${B[i]:,.2f} + \"\n",
    "        else:\n",
    "            string += f\"(${B[i]:,.2f} * {labels[i-1]}) + \"\n",
    "\n",
    "    pred_string = string[:-3]\n",
    "    return pred_string"
   ]
  },
  {
   "cell_type": "code",
   "execution_count": 127,
   "id": "88aacb7f",
   "metadata": {},
   "outputs": [],
   "source": [
    "# defining the evaluation matrices: R2\n",
    "# Return the R2 score for coefficients B\n",
    "# Given inputs X and outputs Y\n",
    "def score(B, X, Y):\n",
    "    y_hat = np.dot(X, B)\n",
    "    sum_square_yhat = sum((Y - y_hat) ** 2)\n",
    "\n",
    "    y_base = np.mean(Y)\n",
    "    sum_square_ybase = sum((Y - y_base) ** 2)\n",
    "    R2 = round(1 - (sum_square_yhat / sum_square_ybase), 6)\n",
    "    return R2"
   ]
  },
  {
   "cell_type": "markdown",
   "id": "510d2da5",
   "metadata": {},
   "source": [
    "### 1. Using Matrix Inversion"
   ]
  },
  {
   "cell_type": "code",
   "execution_count": 128,
   "id": "200d6160",
   "metadata": {},
   "outputs": [],
   "source": [
    "# Read the spreadsheet\n",
    "X, Y, labels = read_excel_data(\"properties.xlsx\")"
   ]
  },
  {
   "cell_type": "code",
   "execution_count": 136,
   "id": "9ae95bd9",
   "metadata": {},
   "outputs": [
    {
     "name": "stdout",
     "output_type": "stream",
     "text": [
      "Read 519 rows, 5 features from 'properties.xlsx'\n"
     ]
    }
   ],
   "source": [
    "n, d = X.shape\n",
    "print(f\"Read {n} rows, {d - 1} features from 'properties.xlsx'\")"
   ]
  },
  {
   "cell_type": "code",
   "execution_count": 130,
   "id": "0f2872d2",
   "metadata": {},
   "outputs": [],
   "source": [
    "# Find the coefficients for the linear regression\n",
    "B = np.linalg.inv(X.T @ X) @ X.T @ Y"
   ]
  },
  {
   "cell_type": "markdown",
   "id": "e2ef7280",
   "metadata": {},
   "source": [
    "**GET THE PREDICTION EQUATION**"
   ]
  },
  {
   "cell_type": "code",
   "execution_count": 131,
   "id": "d2a344d1",
   "metadata": {},
   "outputs": [
    {
     "name": "stdout",
     "output_type": "stream",
     "text": [
      "predicted price = $32,362.85 + ($85.61 * sqft_hvac) + ($2.73 * sqft_yard) + ($59,195.07 * bedrooms) + ($9,599.24 * bathrooms) + ($-17,421.84 * miles_to_school)\n"
     ]
    }
   ],
   "source": [
    "# print the equation\n",
    "print(format_prediction(B, labels))"
   ]
  },
  {
   "cell_type": "code",
   "execution_count": 143,
   "id": "6b4f38f1",
   "metadata": {},
   "outputs": [
    {
     "name": "stdout",
     "output_type": "stream",
     "text": [
      "R2 = 0.875699\n"
     ]
    }
   ],
   "source": [
    "# Evaluation\n",
    "# Get the R2 score (1 is perfect, 0 as bad as just using the mean)\n",
    "R2 = score(B, X, Y)\n",
    "print(f\"R2 = {R2:f}\")"
   ]
  },
  {
   "cell_type": "markdown",
   "id": "17cdcd6a",
   "metadata": {},
   "source": [
    "### 2. Using Scikit-Learn"
   ]
  },
  {
   "cell_type": "code",
   "execution_count": 132,
   "id": "efe26049",
   "metadata": {},
   "outputs": [],
   "source": [
    "from sklearn.linear_model import LinearRegression"
   ]
  },
  {
   "cell_type": "code",
   "execution_count": 133,
   "id": "420a8791",
   "metadata": {},
   "outputs": [],
   "source": [
    "X, Y, labels = read_excel_data(\"properties.xlsx\")"
   ]
  },
  {
   "cell_type": "code",
   "execution_count": 135,
   "id": "ff083311",
   "metadata": {},
   "outputs": [
    {
     "name": "stdout",
     "output_type": "stream",
     "text": [
      "Read 519 rows, 5 features from 'properties.xlsx'.\n"
     ]
    }
   ],
   "source": [
    "n, d = X.shape\n",
    "print(f\"Read {n} rows, {d-1} features from 'properties.xlsx'.\")"
   ]
  },
  {
   "cell_type": "code",
   "execution_count": 137,
   "id": "721f9205",
   "metadata": {},
   "outputs": [],
   "source": [
    "# Don't need the intercept added -- X has column of 1s\n",
    "lin_reg = LinearRegression(fit_intercept=False)"
   ]
  },
  {
   "cell_type": "code",
   "execution_count": 138,
   "id": "e34a6a31",
   "metadata": {},
   "outputs": [
    {
     "data": {
      "text/plain": [
       "LinearRegression(fit_intercept=False)"
      ]
     },
     "execution_count": 138,
     "metadata": {},
     "output_type": "execute_result"
    }
   ],
   "source": [
    "# Fit the model\n",
    "lin_reg.fit(X, Y)"
   ]
  },
  {
   "cell_type": "markdown",
   "id": "9702241f",
   "metadata": {},
   "source": [
    "**GET THE PREDICTION EQUATION**"
   ]
  },
  {
   "cell_type": "code",
   "execution_count": 140,
   "id": "797ddda0",
   "metadata": {},
   "outputs": [
    {
     "name": "stdout",
     "output_type": "stream",
     "text": [
      "predicted price = $32,362.85 + ($85.61 * sqft_hvac) + ($2.73 * sqft_yard) + ($59,195.07 * bedrooms) + ($9,599.24 * bathrooms) + ($-17,421.84 * miles_to_school)\n"
     ]
    }
   ],
   "source": [
    "print(format_prediction(lin_reg.coef_, labels))"
   ]
  },
  {
   "cell_type": "code",
   "execution_count": 141,
   "id": "27a0a575",
   "metadata": {},
   "outputs": [
    {
     "name": "stdout",
     "output_type": "stream",
     "text": [
      "R2 = 0.875699\n"
     ]
    }
   ],
   "source": [
    "# Evaluation\n",
    "# Get the R2 score (1 is perfect, 0 as bad as just using the mean)\n",
    "R2 = lin_reg.score(X, Y)\n",
    "print(f\"R2 = {R2:f}\")"
   ]
  },
  {
   "cell_type": "markdown",
   "id": "f722f020",
   "metadata": {},
   "source": [
    "### 3. Using Gradient Descent to converge upon the formula"
   ]
  },
  {
   "cell_type": "code",
   "execution_count": 156,
   "id": "3351e776",
   "metadata": {},
   "outputs": [
    {
     "name": "stdout",
     "output_type": "stream",
     "text": [
      "Read 519 rows, 5 features from 'properties.xlsx'.\n"
     ]
    }
   ],
   "source": [
    "# Learning rate\n",
    "t = 0.001\n",
    "\n",
    "# Limit interations\n",
    "max_steps = 1000\n",
    "\n",
    "X, Y, labels = read_excel_data(\"properties.xlsx\")\n",
    "X_org = X[::]\n",
    "\n",
    "n, d = X.shape\n",
    "print(f\"Read {n} rows, {d - 1} features from 'properties.xlsx'.\")"
   ]
  },
  {
   "cell_type": "code",
   "execution_count": 157,
   "id": "4241e58f",
   "metadata": {},
   "outputs": [],
   "source": [
    "# The features in properties.xlsx are on very different scales (2 bathrooms vs 50,000 square foot yards). \n",
    "# As a result, converging would take a very, very long time if you don’t first standardize the features.\n",
    "# Standardize X to be X'\n",
    "\n",
    "# Get the mean and standard deviation for each column\n",
    "mu = np.mean(X[:, 1:], axis=0)\n",
    "sigma = np.std(X[:, 1:], axis=0)\n",
    "\n",
    "# No need to mess with the first column (the 1s)\n",
    "X = X[:, 1:]\n",
    "\n",
    "Xp = (X - mu) / sigma\n",
    "Xp = np.hstack((np.ones((n, 1)), Xp)) "
   ]
  },
  {
   "cell_type": "code",
   "execution_count": 158,
   "id": "24c2d463",
   "metadata": {},
   "outputs": [
    {
     "name": "stdout",
     "output_type": "stream",
     "text": [
      "Took 377 iterations to converge\n"
     ]
    }
   ],
   "source": [
    "# First guess for B is \"all coefficents are zero\"\n",
    "B = np.zeros(d)  \n",
    "tolerance = 0.01\n",
    "\n",
    "# a numpy array to record avg error for each step\n",
    "errors = np.zeros(max_steps) \n",
    "\n",
    "# gradient descent algorithm\n",
    "# 1. Calculate the gradient\n",
    "# 2. Update your guess. (Multiply the gradient by -0.001 and add to the last guess.)\n",
    "# 3. Compute and record the new mean squared error\n",
    "\n",
    "for i in range(max_steps):\n",
    "    # Compute the gradient\n",
    "    predictions = Xp.dot(B)\n",
    "    diff = np.subtract(predictions, Y)\n",
    "    gradient = Xp.T.dot(diff)\n",
    "\n",
    "    # Compute a new B (use `t`)\n",
    "    B = B - np.dot(t, gradient)\n",
    "    # Figure out the average squared error using the new B\n",
    "    predictions = Xp.dot(B)\n",
    "    diff = np.subtract(predictions, Y)\n",
    "\n",
    "    sqrErrors = np.square(diff)\n",
    "    J = (1 / n) * np.sum(sqrErrors)\n",
    "\n",
    "    # Store it in `errors``\n",
    "    errors[i] = J\n",
    "\n",
    "    if i > 0 and abs(errors[i - 1] - J) <= tolerance:\n",
    "        break\n",
    "\n",
    "print(f\"Took {i} iterations to converge\")"
   ]
  },
  {
   "cell_type": "code",
   "execution_count": 150,
   "id": "16e828f9",
   "metadata": {},
   "outputs": [],
   "source": [
    "# \"Unstandardize\" the coefficients\n",
    "B_org = np.zeros(6)\n",
    "n = np.multiply(B[1:], mu)\n",
    "n = np.divide(n, sigma)\n",
    "b0_extra = sum(n)\n",
    "B_org[0] = B[0] - b0_extra\n",
    "\n",
    "B_org[1:] = B[1:] / sigma\n",
    "B = B_org"
   ]
  },
  {
   "cell_type": "code",
   "execution_count": 151,
   "id": "0f573e82",
   "metadata": {},
   "outputs": [
    {
     "name": "stdout",
     "output_type": "stream",
     "text": [
      "predicted price = $32,362.84 + ($85.61 * sqft_hvac) + ($2.73 * sqft_yard) + ($59,195.83 * bedrooms) + ($9,599.12 * bathrooms) + ($-17,421.84 * miles_to_school)\n"
     ]
    }
   ],
   "source": [
    "print(format_prediction(B, labels))"
   ]
  },
  {
   "cell_type": "code",
   "execution_count": 153,
   "id": "fd721b10",
   "metadata": {},
   "outputs": [
    {
     "name": "stdout",
     "output_type": "stream",
     "text": [
      "R2 = 0.875699\n"
     ]
    }
   ],
   "source": [
    "X = X_org\n",
    "# Get the R2 score\n",
    "R2 = score(B, X, Y)\n",
    "print(f\"R2 = {R2:f}\")"
   ]
  },
  {
   "cell_type": "code",
   "execution_count": 154,
   "id": "e3c16544",
   "metadata": {},
   "outputs": [
    {
     "data": {
      "text/plain": [
       "Text(0.5, 1.0, 'Convergence')"
      ]
     },
     "execution_count": 154,
     "metadata": {},
     "output_type": "execute_result"
    },
    {
     "data": {
      "image/png": "[encoded data removed]",
      "text/plain": [
       "<Figure size 324x324 with 1 Axes>"
      ]
     },
     "metadata": {
      "needs_background": "light"
     },
     "output_type": "display_data"
    }
   ],
   "source": [
    "# Draw a graph\n",
    "fig1 = plt.figure(1, (4.5, 4.5))\n",
    "plt.plot(range(0, 377), errors[:377], color=\"steelblue\")\n",
    "\n",
    "plt.ticklabel_format(useMathText=True)\n",
    "plt.xlabel(\"Iterations\")\n",
    "plt.ylabel(\"Mean squared error\")\n",
    "plt.loglog()\n",
    "plt.title(\"Convergence\")"
   ]
  },
  {
   "cell_type": "markdown",
   "id": "47d8dac9",
   "metadata": {},
   "source": [
    "### We can see that coefficients and R2 score from all 3 methods (Matrix Inversion, Scikit-Learn's LinearRegression and gradient descent covergence) are same 🥳"
   ]
  }
 ],
 "metadata": {
  "kernelspec": {
   "display_name": "Python 3 (ipykernel)",
   "language": "python",
   "name": "python3"
  },
  "language_info": {
   "codemirror_mode": {
    "name": "ipython",
    "version": 3
   },
   "file_extension": ".py",
   "mimetype": "text/x-python",
   "name": "python",
   "nbconvert_exporter": "python",
   "pygments_lexer": "ipython3",
   "version": "3.9.12"
  }
 },
 "nbformat": 4,
 "nbformat_minor": 5
}
